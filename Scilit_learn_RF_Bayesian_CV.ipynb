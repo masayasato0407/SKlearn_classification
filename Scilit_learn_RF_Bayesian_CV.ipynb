{
  "nbformat": 4,
  "nbformat_minor": 0,
  "metadata": {
    "colab": {
      "provenance": [],
      "authorship_tag": "ABX9TyMB/A2n6Bfme6Dij1rc8U2i",
      "include_colab_link": true
    },
    "kernelspec": {
      "name": "python3",
      "display_name": "Python 3"
    },
    "language_info": {
      "name": "python"
    }
  },
  "cells": [
    {
      "cell_type": "markdown",
      "metadata": {
        "id": "view-in-github",
        "colab_type": "text"
      },
      "source": [
        "<a href=\"https://colab.research.google.com/github/masayasato0407/SKlearn_classification/blob/main/Scilit_learn_RF_Bayesian_CV.ipynb\" target=\"_parent\"><img src=\"https://colab.research.google.com/assets/colab-badge.svg\" alt=\"Open In Colab\"/></a>"
      ]
    },
    {
      "cell_type": "code",
      "execution_count": null,
      "metadata": {
        "id": "lFdDqKJJ_bFe"
      },
      "outputs": [],
      "source": [
        "# Google Colabでのパッケージインストール\n",
        "!pip install optuna scikit-learn"
      ]
    },
    {
      "cell_type": "code",
      "source": [
        "import pandas as pd\n",
        "from sklearn.model_selection import train_test_split, cross_val_score, StratifiedKFold\n",
        "from sklearn.ensemble import RandomForestClassifier\n",
        "from sklearn.metrics import accuracy_score, roc_auc_score\n",
        "import optuna\n",
        "from optuna.samplers import TPESampler"
      ],
      "metadata": {
        "id": "toxgB6vq_cZB"
      },
      "execution_count": null,
      "outputs": []
    },
    {
      "cell_type": "code",
      "source": [
        "# 使用したいcsvファイルを直接アップロードする\n",
        "from google.colab import files\n",
        "uploaded = files.upload()"
      ],
      "metadata": {
        "id": "yRmvp_Lr_cbP"
      },
      "execution_count": null,
      "outputs": []
    },
    {
      "cell_type": "code",
      "source": [
        "#dataの読み込み\n",
        "data = pd.read_csv('sampledata.csv')\n",
        "data.head()"
      ],
      "metadata": {
        "id": "7J1NJ6iH_cdo"
      },
      "execution_count": null,
      "outputs": []
    },
    {
      "cell_type": "code",
      "source": [
        "# 特徴量と目的変数の定義\n",
        "X = data[['col1', 'col2', 'col3', 'col4', 'col5']]\n",
        "y = data['event']"
      ],
      "metadata": {
        "id": "aiDbEHAe_cfw"
      },
      "execution_count": null,
      "outputs": []
    },
    {
      "cell_type": "code",
      "source": [
        "# 最適化のための目的関数の定義\n",
        "def objective(trial):\n",
        "    n_estimators = trial.suggest_int('n_estimators', 10, 200)\n",
        "    max_depth = trial.suggest_int('max_depth', 1, 20)\n",
        "    min_samples_split = trial.suggest_int('min_samples_split', 2, 20)\n",
        "    min_samples_leaf = trial.suggest_int('min_samples_leaf', 1, 20)\n",
        "    max_features = trial.suggest_uniform('max_features', 0.1, 1.0)\n",
        "\n",
        "    rf = RandomForestClassifier(\n",
        "        n_estimators=n_estimators,\n",
        "        max_depth=max_depth,\n",
        "        min_samples_split=min_samples_split,\n",
        "        min_samples_leaf=min_samples_leaf,\n",
        "        max_features=max_features,\n",
        "        random_state=42\n",
        "    )\n",
        "\n",
        "    cv = StratifiedKFold(n_splits=5, shuffle=True, random_state=42)\n",
        "    accuracy_scores = cross_val_score(rf, X, y, cv=cv, scoring='accuracy')\n",
        "    return accuracy_scores.mean()"
      ],
      "metadata": {
        "id": "7DBccGGd_ch3"
      },
      "execution_count": null,
      "outputs": []
    },
    {
      "cell_type": "code",
      "source": [
        "# ベイズ最適化によるハイパーパラメータの最適化\n",
        "sampler = TPESampler(seed=42)\n",
        "study = optuna.create_study(direction='maximize', sampler=sampler)\n",
        "study.optimize(objective, n_trials=32)"
      ],
      "metadata": {
        "id": "KSXexGFl_ckQ"
      },
      "execution_count": null,
      "outputs": []
    },
    {
      "cell_type": "code",
      "source": [
        "# 最適なモデルパラメータの取得\n",
        "best_params = study.best_params"
      ],
      "metadata": {
        "id": "xViRStm8_cmY"
      },
      "execution_count": null,
      "outputs": []
    },
    {
      "cell_type": "code",
      "source": [
        "# 最適なパラメータでモデルを訓練\n",
        "best_rf = RandomForestClassifier(**best_params, random_state=42)\n",
        "best_rf.fit(X, y)"
      ],
      "metadata": {
        "id": "WLpDy1b9_coq"
      },
      "execution_count": null,
      "outputs": []
    },
    {
      "cell_type": "code",
      "source": [
        "# 5分割交差検証による正診率とAUCの計算\n",
        "cv = StratifiedKFold(n_splits=5, shuffle=True, random_state=42)\n",
        "accuracy_scores = cross_val_score(best_rf, X, y, cv=cv, scoring='accuracy')\n",
        "auc_scores = cross_val_score(best_rf, X, y, cv=cv, scoring='roc_auc')"
      ],
      "metadata": {
        "id": "4nY24RJhAD46"
      },
      "execution_count": null,
      "outputs": []
    },
    {
      "cell_type": "code",
      "source": [
        "# 最適なパラメータ、正診率、AUCの表示\n",
        "best_accuracy = accuracy_scores.mean()\n",
        "best_auc = auc_scores.mean()\n",
        "\n",
        "print(\"Best parameters found: \", best_params)\n",
        "print(\"Best cross-validation accuracy: {:.4f}\".format(best_accuracy))\n",
        "print(\"Best cross-validation AUC: {:.4f}\".format(best_auc))"
      ],
      "metadata": {
        "id": "RSXphYaeAD-Q"
      },
      "execution_count": null,
      "outputs": []
    }
  ]
}